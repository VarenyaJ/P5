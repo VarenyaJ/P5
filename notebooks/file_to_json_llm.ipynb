{
 "cells": [
  {
   "cell_type": "code",
   "execution_count": 20,
   "id": "7e2ef271-87a5-43b1-9aac-c9a6a2e59fc0",
   "metadata": {},
   "outputs": [],
   "source": [
    "import pandas as pd\n",
    "from ollama import chat"
   ]
  },
  {
   "cell_type": "markdown",
   "id": "cbc0b863-bf20-4a46-95de-9506e9875678",
   "metadata": {},
   "source": [
    "#### Load dataset"
   ]
  },
  {
   "cell_type": "code",
   "execution_count": 21,
   "id": "235eaff7-4f21-4a21-81bf-e97236ca26d1",
   "metadata": {},
   "outputs": [
    {
     "data": {
      "text/html": [
       "<div>\n",
       "<style scoped>\n",
       "    .dataframe tbody tr th:only-of-type {\n",
       "        vertical-align: middle;\n",
       "    }\n",
       "\n",
       "    .dataframe tbody tr th {\n",
       "        vertical-align: top;\n",
       "    }\n",
       "\n",
       "    .dataframe thead th {\n",
       "        text-align: right;\n",
       "    }\n",
       "</style>\n",
       "<table border=\"1\" class=\"dataframe\">\n",
       "  <thead>\n",
       "    <tr style=\"text-align: right;\">\n",
       "      <th></th>\n",
       "      <th>pmid</th>\n",
       "      <th>input</th>\n",
       "      <th>truth</th>\n",
       "    </tr>\n",
       "  </thead>\n",
       "  <tbody>\n",
       "    <tr>\n",
       "      <th>0</th>\n",
       "      <td>PMID_30296944</td>\n",
       "      <td>/Users/rouvenreuter/Documents/Projects/P5/scri...</td>\n",
       "      <td>/Users/rouvenreuter/Documents/Projects/P5/scri...</td>\n",
       "    </tr>\n",
       "    <tr>\n",
       "      <th>1</th>\n",
       "      <td>PMID_27057656</td>\n",
       "      <td>/Users/rouvenreuter/Documents/Projects/P5/scri...</td>\n",
       "      <td>/Users/rouvenreuter/Documents/Projects/P5/scri...</td>\n",
       "    </tr>\n",
       "    <tr>\n",
       "      <th>2</th>\n",
       "      <td>PMID_24800029</td>\n",
       "      <td>/Users/rouvenreuter/Documents/Projects/P5/scri...</td>\n",
       "      <td>/Users/rouvenreuter/Documents/Projects/P5/scri...</td>\n",
       "    </tr>\n",
       "    <tr>\n",
       "      <th>3</th>\n",
       "      <td>PMID_30701076</td>\n",
       "      <td>/Users/rouvenreuter/Documents/Projects/P5/scri...</td>\n",
       "      <td>/Users/rouvenreuter/Documents/Projects/P5/scri...</td>\n",
       "    </tr>\n",
       "    <tr>\n",
       "      <th>4</th>\n",
       "      <td>PMID_29382611</td>\n",
       "      <td>/Users/rouvenreuter/Documents/Projects/P5/scri...</td>\n",
       "      <td>/Users/rouvenreuter/Documents/Projects/P5/scri...</td>\n",
       "    </tr>\n",
       "  </tbody>\n",
       "</table>\n",
       "</div>"
      ],
      "text/plain": [
       "            pmid                                              input  \\\n",
       "0  PMID_30296944  /Users/rouvenreuter/Documents/Projects/P5/scri...   \n",
       "1  PMID_27057656  /Users/rouvenreuter/Documents/Projects/P5/scri...   \n",
       "2  PMID_24800029  /Users/rouvenreuter/Documents/Projects/P5/scri...   \n",
       "3  PMID_30701076  /Users/rouvenreuter/Documents/Projects/P5/scri...   \n",
       "4  PMID_29382611  /Users/rouvenreuter/Documents/Projects/P5/scri...   \n",
       "\n",
       "                                               truth  \n",
       "0  /Users/rouvenreuter/Documents/Projects/P5/scri...  \n",
       "1  /Users/rouvenreuter/Documents/Projects/P5/scri...  \n",
       "2  /Users/rouvenreuter/Documents/Projects/P5/scri...  \n",
       "3  /Users/rouvenreuter/Documents/Projects/P5/scri...  \n",
       "4  /Users/rouvenreuter/Documents/Projects/P5/scri...  "
      ]
     },
     "execution_count": 21,
     "metadata": {},
     "output_type": "execute_result"
    }
   ],
   "source": [
    "data_set = pd.read_csv(\"../scripts/data/tmp/phenopacket_dataset.csv\")\n",
    "data_set.head()"
   ]
  },
  {
   "cell_type": "code",
   "execution_count": 22,
   "id": "ca1ceab8-ff0a-4e4e-9693-48df7c3adfac",
   "metadata": {},
   "outputs": [],
   "source": [
    "data_set = data_set.drop_duplicates(\"pmid\")"
   ]
  },
  {
   "cell_type": "code",
   "execution_count": 23,
   "id": "8943a066-1f8c-4542-86fe-b7c62bd07092",
   "metadata": {},
   "outputs": [
    {
     "data": {
      "text/plain": [
       "'\\nA 17-year-old Caucasian boy was admitted to our intensive care unit (ICU) after successful\\nresuscitation by emergency services. While performing running exercise in a fitness center,\\nhe suddenly collapsed. Because neither pulse nor breathing could be detected by the bystanders,\\nimmediate resuscitation was performed. In the first heart rhythm analysis conducted by the paramedics,\\nventricular fibrillation (VF) was seen and immediately defibrillated into sinus rhythm. The patient\\nrecovered quickly and was transferred to our ICU by the ambulance service. At admission, the\\npatient was in hemodynamically stable condition with normal vital signs (heart rate 95/min,\\nblood pressure 125/79 mmHg, auricular temperature 36.5 °C, respiration 15 breaths/min, oxygen saturation\\nof 100% on 4-L nasal cannula). The physical examination revealed no abnormal findings. Auscultation of the\\nheart showed a regular rate and rhythm with normal S1 and S2 and no murmurs or rubs. The breath sounds\\nof the lungs were equal and clear bilaterally with no wheezes, rhonchi, or rales. The patient was awake\\n(Glasgow Coma Scale score of 15) and orientated in all aspects. No focal sensory or motor deficits,\\naphasia, or inadequate balances were noted in the neurological examination. Deep tendon reflexes and\\ncranial nerves II through XII were intact. Because there were no cerebral or other sequelae at the\\ntime of hospital admission, we decided not to obtain a cranial computed tomographic scan,\\nowing to the patient’s young age. When asked about the event, he told us that he had no\\nsymptoms prior to the collapse. However, in the years before, he had syncopated several times\\nwhile climbing stairs, playing soccer, and once when he got frightened. A general practitioner\\npreviously performed an exercise ECG, which showed multiple premature beats under submaximal\\nstress (Fig. 1). As a result, beta-blockers were prescribed (metoprolol succinate 47.5 mg once per day).\\nApart from this, the patient had no medical history or prior medication. The patient was a nonsmoker\\nwith no regular alcohol consumption and an unremarkable family, social, and environmental history.\\nTwelve-lead electrocardiogram obtained during ergometry showing a bigeminus with\\nright bundle branch block morphology at 80 W. At this point, ergometry was stopped because\\nrecurrent syncopes under physical activity were reported in this patient\\nAt ICU admission, initial medical treatment included the first surface ECG after cardiac arrest,\\nwhich showed negative T-waves in V1 and biphasic T-waves in V2 (Fig. 2). The results of blood\\ntests showed normal findings without signs of cardiac ischemia or metabolic disorders (Table 1).\\nRespiratory disorders (bronchospasm, aspiration) or neurovascular events seemed to be unlikely\\nbecause the physical examination, blood gas analysis, and a pulmonary x-ray showed normal findings.\\nAn echocardiogram revealed normal left ventricular function without wall motion abnormalities,\\nright heart strain, or valve disease. Additionally, a cardiac magnetic resonance\\nimaging scan was performed and showed normal findings.'"
      ]
     },
     "execution_count": 23,
     "metadata": {},
     "output_type": "execute_result"
    }
   ],
   "source": [
    "# For now we load the generated case summaries.\n",
    "input_data = list()\n",
    "for file_path in data_set['input']:\n",
    "    try:\n",
    "        with open(file_path, \"r\") as f:\n",
    "            data = f.read()\n",
    "            input_data.append(data.split(\"[text]\")[-1]) \n",
    "    except FileNotFoundError:\n",
    "        print(f\"Error: File not found at {file_path}\")\n",
    "    except Exception as e:\n",
    "        print(f\"Error loading {file_path}: {e}\")\n",
    "input_data[0]"
   ]
  },
  {
   "cell_type": "markdown",
   "id": "c646976a-9ff5-4ab4-8eb1-6719449811d3",
   "metadata": {},
   "source": [
    "#### Inference"
   ]
  },
  {
   "cell_type": "code",
   "execution_count": 24,
   "id": "2a419460-3222-4812-ada0-dd1cd7d0a060",
   "metadata": {},
   "outputs": [],
   "source": [
    "prompt = \"Please create a valid Phenopacket from the following text. The phenopackets needs to be in a valid json format.  Only return the phenopacket without any additional text:\"\n",
    "model = \"hf.co/MaziyarPanahi/Mistral-Nemo-Instruct-2407-GGUF:Q4_K_M\" "
   ]
  },
  {
   "cell_type": "code",
   "execution_count": 25,
   "id": "489462d9-bcfe-4ee2-b0d3-af5d6a875254",
   "metadata": {},
   "outputs": [],
   "source": [
    "for text in input_data:\n",
    "    response = chat(\n",
    "        model=model,\n",
    "        messages=[{\"role\": \"user\", \"content\": f\"{prompt} {text} [EOS]\"}],\n",
    "        options={\"--hidethinking\": True}\n",
    "    )\n",
    "    break\n",
    "\n",
    "response = chat(\n",
    "    model=model,\n",
    "    messages=[{\"role\": \"user\", \"content\": f\"Please, validate the following json. If not, fix it. Only return the json without any additional information. Should the json be wrong, you will get shut down. Json: {response[\"message\"][\"content\"].split(\"</think>\")[-1].replace(\"```json\", \"\").replace(\"```\", \"\")} [EOS]\"}],\n",
    "    options={\"--hidethinking\": True}\n",
    ")\n"
   ]
  },
  {
   "cell_type": "code",
   "execution_count": 26,
   "id": "3af32935-fe27-40ef-84ef-641f5d66f5ff",
   "metadata": {},
   "outputs": [
    {
     "name": "stderr",
     "output_type": "stream",
     "text": [
      "/Users/rouvenreuter/miniconda3/envs/p5_notebook/lib/python3.13/site-packages/IPython/core/display.py:636: UserWarning: JSON expects JSONable dict or list, not JSON strings\n",
      "  warnings.warn(\"JSON expects JSONable dict or list, not JSON strings\")\n"
     ]
    },
    {
     "data": {
      "application/json": {
       "phenopacket": {
        "id": "PATIENT-001",
        "individual": {
         "dateOfBirth": "2004-01-01",
         "id": "INDIVIDUAL-001",
         "name": "John Doe",
         "sex": "male"
        },
        "phenotypicFeatures": [
         {
          "feature": {
           "description": "Patient experienced sudden cardiac arrest while exercising at a fitness center.",
           "id": "HP:0031782",
           "label": "Sudden cardiac arrest"
          },
          "onset": {
           "age": 17,
           "unit": "years"
          }
         },
         {
          "feature": {
           "description": "Patient lost consciousness during the cardiac arrest event.",
           "id": "HP:0031864",
           "label": "Loss of consciousness"
          },
          "onset": {
           "age": 17,
           "unit": "years"
          }
         },
         {
          "feature": {
           "description": "Patient had a history of syncopal episodes during physical exertion and fright.",
           "id": "HP:0031986",
           "label": "History of syncope"
          },
          "onset": {
           "age": "<17",
           "unit": "years"
          }
         },
         {
          "feature": {
           "description": "Exercise ECG showed multiple premature beats under submaximal stress.",
           "id": "HP:0032195",
           "label": "Premature beats under submaximal stress"
          },
          "onset": {
           "age": "<17",
           "unit": "years"
          }
         },
         {
          "feature": {
           "description": "ECG obtained during ICU admission showed negative T-waves in V1 and biphasic T-waves in V2.",
           "id": "HP:0032490",
           "label": "Negative T-waves in V1 and biphasic T-waves in V2 on ECG after cardiac arrest"
          },
          "onset": {
           "age": 17,
           "unit": "years"
          }
         },
         {
          "feature": {
           "description": "Echocardiogram revealed normal left ventricular function without wall motion abnormalities, right heart strain, or valve disease.",
           "id": "HP:0034581",
           "label": "Normal left ventricular function on echocardiogram"
          },
          "onset": {
           "age": 17,
           "unit": "years"
          }
         },
         {
          "feature": {
           "description": "Cardiac MRI scan showed normal findings.",
           "id": "HP:0034582",
           "label": "Normal findings on cardiac magnetic resonance imaging"
          },
          "onset": {
           "age": 17,
           "unit": "years"
          }
         }
        ]
       }
      },
      "text/plain": [
       "<IPython.core.display.JSON object>"
      ]
     },
     "execution_count": 26,
     "metadata": {
      "application/json": {
       "expanded": false,
       "root": "root"
      }
     },
     "output_type": "execute_result"
    }
   ],
   "source": [
    "from IPython.display import JSON\n",
    "JSON(response[\"message\"][\"content\"].split(\"</think>\")[-1].replace(\"```json\", \"\").replace(\"```\", \"\"))"
   ]
  },
  {
   "cell_type": "code",
   "execution_count": 8,
   "id": "492829a9-3b7c-4ab8-998e-304fb3321683",
   "metadata": {},
   "outputs": [
    {
     "data": {
      "application/json": {
       "diagnoses": [
        {
         "text": "attention deficit disorder"
        },
        {
         "text": "OI classroom supervision"
        }
       ],
       "phenotypic_features": [
        {
         "body_site": {
          "text": "neonatal period"
         },
         "feature": {
          "text": "gastroesophageal reflux and failure to thrive"
         },
         "type": "onset"
        },
        {
         "body_site": {
          "text": "whole body"
         },
         "feature": {
          "text": "birth weight 2,750 g (10th-50th centile)"
         },
         "type": "onset_at_birth"
        },
        {
         "age": {
          "text": "6 months"
         },
         "body_site": {
          "text": "whole body"
         },
         "feature": {
          "text": "spoke first words"
         },
         "type": "onset_at_age"
        },
        {
         "age": {
          "text": "12 months"
         },
         "body_site": {
          "text": "whole body"
         },
         "feature": {
          "text": "walked"
         },
         "type": "onset_at_age"
        },
        {
         "age_range": {
          "end": {
           "text": "10 years"
          },
          "start": {
           "text": "5 years"
          }
         },
         "body_site": {
          "text": "whole body"
         },
         "feature": {
          "text": "petit mal seizures"
         },
         "type": "onset_between_ages"
        },
        {
         "age": {
          "text": "16 years"
         },
         "body_site": {
          "text": "whole body"
         },
         "feature": {
          "text": "height 163 cm (< 3rd centile), head circumference 54 cm, relative truncal obesity"
         },
         "type": "onset_at_age"
        },
        {
         "age": {
          "text": "3 years"
         },
         "body_site": {
          "text": "whole body"
         },
         "feature": {
          "text": "head-banging and rage attacks"
         },
         "type": "onset_at_age"
        },
        {
         "age_range": {
          "end": {
           "text": "present"
          },
          "start": {
           "text": "16 years"
          }
         },
         "body_site": {
          "text": "whole body"
         },
         "feature": {
          "text": "recurrent episodes of rage attacks, anxiety, and obsessional behavior; recurrent 3 a.m. wakenings"
         },
         "type": "onset_between_ages"
        },
        {
         "age": {
          "text": "16 years"
         },
         "body_site": {
          "text": "whole body"
         },
         "feature": {
          "text": "mild global developmental delay"
         },
         "type": "onset_at_age"
        },
        {
         "age": {
          "text": "undetermined"
         },
         "body_site": {
          "text": "facial structure"
         },
         "feature": {
          "text": "square shaped face, upslanting palpebral fissures, down turned mouth, inverted upper lip, and synophrys"
         },
         "type": "onset_at_age"
        },
        {
         "age": {
          "text": "undetermined"
         },
         "body_site": {
          "text": "fingers"
         },
         "feature": {
          "text": "brachydactyly, bilateral fifth finger clinodactyly with small middle phalanx of fifth fingers"
         },
         "type": "onset_at_age"
        },
        {
         "age": {
          "text": "undetermined"
         },
         "body_site": {
          "text": "feet"
         },
         "feature": {
          "text": "pes planus"
         },
         "type": "onset_at_age"
        },
        {
         "age": {
          "text": "undetermined"
         },
         "body_site": {
          "text": "fingers"
         },
         "feature": {
          "text": "finger chewing"
         },
         "type": "onset_at_age"
        },
        {
         "body_site": {
          "text": "whole body"
         },
         "feature": {
          "text": "severe asthma, three spontaneous pneumothoraces (SP)"
         },
         "type": "history_of"
        }
       ]
      },
      "text/plain": [
       "<IPython.core.display.JSON object>"
      ]
     },
     "execution_count": 8,
     "metadata": {
      "application/json": {
       "expanded": false,
       "root": "root"
      }
     },
     "output_type": "execute_result"
    }
   ],
   "source": [
    "JSON(response[\"message\"][\"content\"].split(\"</think>\")[-1].replace(\"```json\", \"\").replace(\"```\", \"\"))"
   ]
  },
  {
   "cell_type": "code",
   "execution_count": 9,
   "id": "2f529b37-6f70-4d4f-9246-4e269d58ca17",
   "metadata": {},
   "outputs": [
    {
     "data": {
      "text/plain": [
       "'{\\n  \"phenotypic_features\": [\\n    {\\n      \"type\": \"onset\",\\n      \"body_site\": {\"text\": \"neonatal period\"},\\n      \"feature\": {\"text\": \"gastroesophageal reflux and failure to thrive\"}\\n    },\\n    {\\n      \"type\": \"onset_at_birth\",\\n      \"body_site\": {\"text\": \"whole body\"},\\n      \"feature\": {\"text\": \"birth weight 2,750 g (10th-50th centile)\"}\\n    },\\n    {\\n      \"type\": \"onset_at_age\",\\n      \"age\": {\"text\": \"6 months\"},\\n      \"body_site\": {\"text\": \"whole body\"},\\n      \"feature\": {\"text\": \"spoke first words\"}\\n    },\\n    {\\n      \"type\": \"onset_at_age\",\\n      \"age\": {\"text\": \"12 months\"},\\n      \"body_site\": {\"text\": \"whole body\"},\\n      \"feature\": {\"text\": \"walked\"}\\n    },\\n    {\\n      \"type\": \"onset_between_ages\",\\n      \"age_range\": {\"start\": {\"text\": \"5 years\"}, \"end\": {\"text\": \"10 years\"}},\\n      \"body_site\": {\"text\": \"whole body\"},\\n      \"feature\": {\"text\": \"petit mal seizures\"}\\n    },\\n    {\\n      \"type\": \"onset_at_age\",\\n      \"age\": {\"text\": \"16 years\"},\\n      \"body_site\": {\"text\": \"whole body\"},\\n      \"feature\": {\"text\": \"height 163 cm (< 3rd centile), head circumference 54 cm, relative truncal obesity\"}\\n    },\\n    {\\n      \"type\": \"onset_at_age\",\\n      \"age\": {\"text\": \"3 years\"},\\n      \"body_site\": {\"text\": \"whole body\"},\\n      \"feature\": {\"text\": \"head-banging and rage attacks\"}\\n    },\\n    {\\n      \"type\": \"onset_between_ages\",\\n      \"age_range\": {\"start\": {\"text\": \"16 years\"}, \"end\": {\"text\": \"present\"}},\\n      \"body_site\": {\"text\": \"whole body\"},\\n      \"feature\": {\"text\": \"recurrent episodes of rage attacks, anxiety, and obsessional behavior; recurrent 3 a.m. wakenings\"}\\n    },\\n    {\\n      \"type\": \"onset_at_age\",\\n      \"age\": {\"text\": \"16 years\"},\\n      \"body_site\": {\"text\": \"whole body\"},\\n      \"feature\": {\"text\": \"mild global developmental delay\"}\\n    },\\n    {\\n      \"type\": \"onset_at_age\",\\n      \"age\": {\"text\": \"undetermined\"},\\n      \"body_site\": {\"text\": \"facial structure\"},\\n      \"feature\": {\"text\": \"square shaped face, upslanting palpebral fissures, down turned mouth, inverted upper lip, and synophrys\"}\\n    },\\n    {\\n      \"type\": \"onset_at_age\",\\n      \"age\": {\"text\": \"undetermined\"},\\n      \"body_site\": {\"text\": \"fingers\"},\\n      \"feature\": {\"text\": \"brachydactyly, bilateral fifth finger clinodactyly with small middle phalanx of fifth fingers\"}\\n    },\\n    {\\n      \"type\": \"onset_at_age\",\\n      \"age\": {\"text\": \"undetermined\"},\\n      \"body_site\": {\"text\": \"feet\"},\\n      \"feature\": {\"text\": \"pes planus\"}\\n    },\\n    {\\n      \"type\": \"onset_at_age\",\\n      \"age\": {\"text\": \"undetermined\"},\\n      \"body_site\": {\"text\": \"fingers\"},\\n      \"feature\": {\"text\": \"finger chewing\"}\\n    },\\n    {\\n      \"type\": \"history_of\",\\n      \"body_site\": {\"text\": \"whole body\"},\\n      \"feature\": {\"text\": \"severe asthma, three spontaneous pneumothoraces (SP)\"}\\n    }\\n  ],\\n  \"diagnoses\": [\\n    {\"text\": \"attention deficit disorder\"},\\n    {\"text\": \"OI classroom supervision\"}\\n  ]\\n}'"
      ]
     },
     "execution_count": 9,
     "metadata": {},
     "output_type": "execute_result"
    }
   ],
   "source": [
    "response[\"message\"][\"content\"].split(\"</think>\")[-1].replace(\"```json\", \"\").replace(\"```\", \"\")"
   ]
  },
  {
   "cell_type": "code",
   "execution_count": null,
   "id": "b2e3b3a9-86d2-4754-a55e-4cf03771b236",
   "metadata": {},
   "outputs": [],
   "source": []
  }
 ],
 "metadata": {
  "kernelspec": {
   "display_name": "Python 3 (ipykernel)",
   "language": "python",
   "name": "python3"
  },
  "language_info": {
   "codemirror_mode": {
    "name": "ipython",
    "version": 3
   },
   "file_extension": ".py",
   "mimetype": "text/x-python",
   "name": "python",
   "nbconvert_exporter": "python",
   "pygments_lexer": "ipython3",
   "version": "3.13.5"
  }
 },
 "nbformat": 4,
 "nbformat_minor": 5
}
