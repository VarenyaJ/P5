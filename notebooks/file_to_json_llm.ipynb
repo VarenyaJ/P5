{
 "cells": [
  {
   "cell_type": "code",
   "execution_count": 24,
   "id": "7e2ef271-87a5-43b1-9aac-c9a6a2e59fc0",
   "metadata": {},
   "outputs": [],
   "source": [
    "import pandas as pd\n",
    "import os\n",
    "from ollama import chat"
   ]
  },
  {
   "cell_type": "markdown",
   "id": "cbc0b863-bf20-4a46-95de-9506e9875678",
   "metadata": {},
   "source": [
    "#### Load dataset"
   ]
  },
  {
   "cell_type": "code",
   "execution_count": 10,
   "id": "235eaff7-4f21-4a21-81bf-e97236ca26d1",
   "metadata": {},
   "outputs": [
    {
     "data": {
      "text/html": [
       "<div>\n",
       "<style scoped>\n",
       "    .dataframe tbody tr th:only-of-type {\n",
       "        vertical-align: middle;\n",
       "    }\n",
       "\n",
       "    .dataframe tbody tr th {\n",
       "        vertical-align: top;\n",
       "    }\n",
       "\n",
       "    .dataframe thead th {\n",
       "        text-align: right;\n",
       "    }\n",
       "</style>\n",
       "<table border=\"1\" class=\"dataframe\">\n",
       "  <thead>\n",
       "    <tr style=\"text-align: right;\">\n",
       "      <th></th>\n",
       "      <th>pmid</th>\n",
       "      <th>input</th>\n",
       "      <th>truth</th>\n",
       "    </tr>\n",
       "  </thead>\n",
       "  <tbody>\n",
       "    <tr>\n",
       "      <th>0</th>\n",
       "      <td>PMID_27656288</td>\n",
       "      <td>/Users/rouvenreuter/Documents/Projects/P5/scri...</td>\n",
       "      <td>/Users/rouvenreuter/Documents/Projects/P5/scri...</td>\n",
       "    </tr>\n",
       "    <tr>\n",
       "      <th>1</th>\n",
       "      <td>PMID_28503313</td>\n",
       "      <td>/Users/rouvenreuter/Documents/Projects/P5/scri...</td>\n",
       "      <td>/Users/rouvenreuter/Documents/Projects/P5/scri...</td>\n",
       "    </tr>\n",
       "    <tr>\n",
       "      <th>2</th>\n",
       "      <td>PMID_25469541</td>\n",
       "      <td>/Users/rouvenreuter/Documents/Projects/P5/scri...</td>\n",
       "      <td>/Users/rouvenreuter/Documents/Projects/P5/scri...</td>\n",
       "    </tr>\n",
       "    <tr>\n",
       "      <th>3</th>\n",
       "      <td>PMID_20932317</td>\n",
       "      <td>/Users/rouvenreuter/Documents/Projects/P5/scri...</td>\n",
       "      <td>/Users/rouvenreuter/Documents/Projects/P5/scri...</td>\n",
       "    </tr>\n",
       "    <tr>\n",
       "      <th>4</th>\n",
       "      <td>PMID_20932317</td>\n",
       "      <td>/Users/rouvenreuter/Documents/Projects/P5/scri...</td>\n",
       "      <td>/Users/rouvenreuter/Documents/Projects/P5/scri...</td>\n",
       "    </tr>\n",
       "  </tbody>\n",
       "</table>\n",
       "</div>"
      ],
      "text/plain": [
       "            pmid                                              input  \\\n",
       "0  PMID_27656288  /Users/rouvenreuter/Documents/Projects/P5/scri...   \n",
       "1  PMID_28503313  /Users/rouvenreuter/Documents/Projects/P5/scri...   \n",
       "2  PMID_25469541  /Users/rouvenreuter/Documents/Projects/P5/scri...   \n",
       "3  PMID_20932317  /Users/rouvenreuter/Documents/Projects/P5/scri...   \n",
       "4  PMID_20932317  /Users/rouvenreuter/Documents/Projects/P5/scri...   \n",
       "\n",
       "                                               truth  \n",
       "0  /Users/rouvenreuter/Documents/Projects/P5/scri...  \n",
       "1  /Users/rouvenreuter/Documents/Projects/P5/scri...  \n",
       "2  /Users/rouvenreuter/Documents/Projects/P5/scri...  \n",
       "3  /Users/rouvenreuter/Documents/Projects/P5/scri...  \n",
       "4  /Users/rouvenreuter/Documents/Projects/P5/scri...  "
      ]
     },
     "execution_count": 10,
     "metadata": {},
     "output_type": "execute_result"
    }
   ],
   "source": [
    "data_set = pd.read_csv(\"../scripts/data/tmp/phenopacket_dataset.csv\")\n",
    "data_set.head()"
   ]
  },
  {
   "cell_type": "code",
   "execution_count": 11,
   "id": "ca1ceab8-ff0a-4e4e-9693-48df7c3adfac",
   "metadata": {},
   "outputs": [],
   "source": [
    "data_set = data_set.drop_duplicates(\"pmid\")"
   ]
  },
  {
   "cell_type": "code",
   "execution_count": 19,
   "id": "8943a066-1f8c-4542-86fe-b7c62bd07092",
   "metadata": {},
   "outputs": [
    {
     "data": {
      "text/plain": [
       "'\\nThe patient is the fifth child of healthy, non-consanguineous parents. After an uneventful pregnancy, he was born at 35 weeks gestation following the premature rupture of the fetal membranes. His birth weight was 1,924 g (−1.3 SD). Because of an unknown cause, perforation of the terminal ileum occurred at the age of 2 days, and an ileostomy was performed.\\nAfter follow-up with central venous nutrition and tube feeding, closure of the ileostomy was performed at the age of 52 days, and he left the hospital at the age of 73 days. He achieved head control at the age of 9 months and walked independently at the age of 18 months. At the age of 1 year, the patient was diagnosed with hypotonia and kyphoscoliosis, and treated with a brace at another clinic.\\nHis kyphoscoliosis was non-responsive to the brace and increased in severity over time. At the age of 9 years, the patient was suspected to have a connective tissue disorder because he showed muscle weakness and joint hypermobility. Therefore, he was readmitted to our hospital for diagnosis. Clinical examination at the age of 9 years showed a boy with a height of 117.4 cm (–2.3 SD) and weight of 19.9 kg (–1.5 SD).\\nHe had joint hypermobility (Beighton score=6), mild hyperextensible skin (~1.5 cm on the volar surface of the forearm) and severe kyphoscoliosis (Figure 1), but did not have widened atrophic scars. In the minor diagnostic criteria for cEDS, smooth velvety skin, muscle hypotonia and delayed gross motor development were observed in addition to the manifestations of tissue extensibility and fragility (perforation of the terminal ileum at the age of 2 days).\\nNo abnormality was revealed during physical examination of the chest and abdomen or during an ophthalmological evaluation.\\nEchocardiography and abdominal ultrasound were normal.'"
      ]
     },
     "execution_count": 19,
     "metadata": {},
     "output_type": "execute_result"
    }
   ],
   "source": [
    "# For now we load the generated case summaries.\n",
    "input_data = list()\n",
    "for file_path in data_set['input']:\n",
    "    try:\n",
    "        with open(file_path, \"r\") as f:\n",
    "            data = f.read()\n",
    "            input_data.append(data.split(\"[text]\")[-1]) \n",
    "    except FileNotFoundError:\n",
    "        print(f\"Error: File not found at {file_path}\")\n",
    "    except Exception as e:\n",
    "        print(f\"Error loading {file_path}: {e}\")\n",
    "input_data[0]"
   ]
  },
  {
   "cell_type": "markdown",
   "id": "c646976a-9ff5-4ab4-8eb1-6719449811d3",
   "metadata": {},
   "source": [
    "#### Inference"
   ]
  },
  {
   "cell_type": "code",
   "execution_count": 21,
   "id": "2a419460-3222-4812-ada0-dd1cd7d0a060",
   "metadata": {},
   "outputs": [],
   "source": [
    "prompt = \"Please create a valid Phenopacket from the following text:\"\n",
    "model = \"deepseek-r1:8b\" "
   ]
  },
  {
   "cell_type": "code",
   "execution_count": null,
   "id": "489462d9-bcfe-4ee2-b0d3-af5d6a875254",
   "metadata": {},
   "outputs": [],
   "source": [
    "\n",
    "for text in input_data:\n",
    "    response = chat(\n",
    "        model=model,\n",
    "        messages=[{\"role\": \"user\", \"content\": f\"{prompt} {text} [EOS]\"}],\n",
    "    )\n",
    "    break\n"
   ]
  },
  {
   "cell_type": "code",
   "execution_count": null,
   "id": "492829a9-3b7c-4ab8-998e-304fb3321683",
   "metadata": {},
   "outputs": [],
   "source": [
    "try:\n",
    "    phenopacket_json = json.loads(response[\"message\"][\"content\"])\n",
    "    with open(f\"{out_dir}/{file_name.split(\".\")[0]}.json\", \"w\") as f:\n",
    "        json.dump(phenopacket_json, f)\n",
    "except json.decoder.JSONDecodeError:\n",
    "    click.secho(\n",
    "        message=f\"{model} did not convert {file_name} into valid json format\",\n",
    "        err=True,\n",
    "        fg=\"red\",\n",
    "    )"
   ]
  }
 ],
 "metadata": {
  "kernelspec": {
   "display_name": "Python 3 (ipykernel)",
   "language": "python",
   "name": "python3"
  },
  "language_info": {
   "codemirror_mode": {
    "name": "ipython",
    "version": 3
   },
   "file_extension": ".py",
   "mimetype": "text/x-python",
   "name": "python",
   "nbconvert_exporter": "python",
   "pygments_lexer": "ipython3",
   "version": "3.13.5"
  }
 },
 "nbformat": 4,
 "nbformat_minor": 5
}
